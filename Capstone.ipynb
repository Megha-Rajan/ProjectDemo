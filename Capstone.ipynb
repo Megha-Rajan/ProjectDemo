{
 "cells": [
  {
   "cell_type": "markdown",
   "id": "f272aa6c",
   "metadata": {},
   "source": [
    "## CapstoneProject: Student Competency Analysis"
   ]
  },
  {
   "cell_type": "markdown",
   "id": "1f46112d",
   "metadata": {},
   "source": [
    "### TASK 3"
   ]
  },
  {
   "cell_type": "code",
   "execution_count": 1,
   "id": "e107c224",
   "metadata": {},
   "outputs": [],
   "source": [
    "from pyspark.sql import SparkSession"
   ]
  },
  {
   "cell_type": "code",
   "execution_count": 2,
   "id": "150541b3",
   "metadata": {},
   "outputs": [],
   "source": [
    "spark=SparkSession.builder.appName(\"Capstone Project\").enableHiveSupport().getOrCreate()"
   ]
  },
  {
   "cell_type": "code",
   "execution_count": 3,
   "id": "094452e1",
   "metadata": {},
   "outputs": [
    {
     "data": {
      "text/html": [
       "\n",
       "            <div>\n",
       "                <p><b>SparkSession - hive</b></p>\n",
       "                \n",
       "        <div>\n",
       "            <p><b>SparkContext</b></p>\n",
       "\n",
       "            <p><a href=\"http://g01.itversity.com:4042\">Spark UI</a></p>\n",
       "\n",
       "            <dl>\n",
       "              <dt>Version</dt>\n",
       "                <dd><code>v3.0.1</code></dd>\n",
       "              <dt>Master</dt>\n",
       "                <dd><code>yarn</code></dd>\n",
       "              <dt>AppName</dt>\n",
       "                <dd><code>Capstone Project</code></dd>\n",
       "            </dl>\n",
       "        </div>\n",
       "        \n",
       "            </div>\n",
       "        "
      ],
      "text/plain": [
       "<pyspark.sql.session.SparkSession at 0x7f4b1bc26710>"
      ]
     },
     "execution_count": 3,
     "metadata": {},
     "output_type": "execute_result"
    }
   ],
   "source": [
    "spark"
   ]
  },
  {
   "cell_type": "code",
   "execution_count": 4,
   "id": "5c62c837",
   "metadata": {},
   "outputs": [
    {
     "data": {
      "text/html": [
       "<table border='1'>\n",
       "<tr><th></th></tr>\n",
       "</table>\n"
      ],
      "text/plain": [
       "++\n",
       "||\n",
       "++\n",
       "++"
      ]
     },
     "execution_count": 4,
     "metadata": {},
     "output_type": "execute_result"
    }
   ],
   "source": [
    "spark.sql(\"use capstoneproject\")"
   ]
  },
  {
   "cell_type": "code",
   "execution_count": 5,
   "id": "94af3f73",
   "metadata": {},
   "outputs": [
    {
     "data": {
      "text/plain": [
       "'capstoneproject'"
      ]
     },
     "execution_count": 5,
     "metadata": {},
     "output_type": "execute_result"
    }
   ],
   "source": [
    "spark.catalog.currentDatabase()"
   ]
  },
  {
   "cell_type": "code",
   "execution_count": 6,
   "id": "03475634",
   "metadata": {},
   "outputs": [
    {
     "data": {
      "text/plain": [
       "[Table(name='studentcoursecompletionstatus', database='capstoneproject', description=None, tableType='MANAGED', isTemporary=False),\n",
       " Table(name='studentcoursedetails', database='capstoneproject', description=None, tableType='MANAGED', isTemporary=False),\n",
       " Table(name='studentcoursedetails_no_partition', database='capstoneproject', description=None, tableType='MANAGED', isTemporary=False)]"
      ]
     },
     "execution_count": 6,
     "metadata": {},
     "output_type": "execute_result"
    }
   ],
   "source": [
    "spark.catalog.listTables()"
   ]
  },
  {
   "cell_type": "code",
   "execution_count": 7,
   "id": "75b362fe",
   "metadata": {},
   "outputs": [
    {
     "name": "stdout",
     "output_type": "stream",
     "text": [
      "+---------------+--------------------+-----------+\n",
      "|       database|           tableName|isTemporary|\n",
      "+---------------+--------------------+-----------+\n",
      "|capstoneproject|studentcoursecomp...|      false|\n",
      "|capstoneproject|studentcoursedetails|      false|\n",
      "|capstoneproject|studentcoursedeta...|      false|\n",
      "+---------------+--------------------+-----------+\n",
      "\n"
     ]
    }
   ],
   "source": [
    "spark.sql(\"show tables\").show()"
   ]
  },
  {
   "cell_type": "markdown",
   "id": "4100d3c2",
   "metadata": {},
   "source": [
    "#### Creating DataFrame from Hive Tables"
   ]
  },
  {
   "cell_type": "code",
   "execution_count": 8,
   "id": "03854aaa",
   "metadata": {},
   "outputs": [],
   "source": [
    "df1_coursecompletion = spark.read.table(\"capstoneproject.studentcoursecompletionstatus\")"
   ]
  },
  {
   "cell_type": "code",
   "execution_count": 9,
   "id": "3fb8fcde",
   "metadata": {},
   "outputs": [
    {
     "name": "stdout",
     "output_type": "stream",
     "text": [
      "root\n",
      " |-- studentsid: string (nullable = true)\n",
      " |-- courseid: string (nullable = true)\n",
      " |-- examdate: string (nullable = true)\n",
      " |-- attendedstatus: string (nullable = true)\n",
      " |-- marks: integer (nullable = true)\n",
      " |-- result: string (nullable = true)\n",
      "\n"
     ]
    }
   ],
   "source": [
    "df1_coursecompletion.printSchema()"
   ]
  },
  {
   "cell_type": "code",
   "execution_count": 10,
   "id": "6fe1cdd2",
   "metadata": {},
   "outputs": [
    {
     "name": "stdout",
     "output_type": "stream",
     "text": [
      "+----------+--------+---------+--------------+-----+-------------+\n",
      "|studentsid|courseid| examdate|attendedstatus|marks|       result|\n",
      "+----------+--------+---------+--------------+-----+-------------+\n",
      "|     S0001|   C0001|17 Feb 19|      Attended|   70|    Qualified|\n",
      "|     S0298|   C0008|24 Feb 19|      Attended|   70|    Qualified|\n",
      "|     S0297|   C0007|23 Feb 19|        Absent|    0|Not Qualified|\n",
      "|     S0296|   C0030|20 Feb 19|      Attended|   70|    Qualified|\n",
      "|     S0291|   C0013| 1 Mar 19|      Attended|   85|    Qualified|\n",
      "|     S0290|   C0017| 5 Mar 19|        Absent|    0|Not Qualified|\n",
      "|     S0289|   C0016| 4 Mar 19|        Absent|    0|Not Qualified|\n",
      "|     S0288|   C0015| 3 Mar 19|        Absent|    0|Not Qualified|\n",
      "|     S0287|   C0014| 2 Mar 19|        Absent|    0|Not Qualified|\n",
      "|     S0286|   C0013| 1 Mar 19|      Attended|   85|    Qualified|\n",
      "|     S0285|   C0012|28 Feb 19|      Attended|   70|    Qualified|\n",
      "|     S0284|   C0011|27 Feb 19|        Absent|    0|Not Qualified|\n",
      "|     S0283|   C0010|26 Feb 19|        Absent|    0|Not Qualified|\n",
      "|     S0281|   C0008|24 Feb 19|      Attended|   70|    Qualified|\n",
      "|     S0280|   C0007|23 Feb 19|        Absent|    0|Not Qualified|\n",
      "|     S0279|   C0006|22 Feb 19|        Absent|    0|Not Qualified|\n",
      "|     S0278|   C0005|21 Feb 19|        Absent|    0|Not Qualified|\n",
      "|     S0276|   C0003|19 Feb 19|      Attended|   70|    Qualified|\n",
      "|     S0275|   C0017| 5 Mar 19|        Absent|    0|Not Qualified|\n",
      "|     S0274|   C0016| 4 Mar 19|        Absent|    0|Not Qualified|\n",
      "+----------+--------+---------+--------------+-----+-------------+\n",
      "only showing top 20 rows\n",
      "\n"
     ]
    }
   ],
   "source": [
    "df1_coursecompletion.show()"
   ]
  },
  {
   "cell_type": "code",
   "execution_count": 11,
   "id": "e1b01b8a",
   "metadata": {},
   "outputs": [
    {
     "data": {
      "text/plain": [
       "pyspark.sql.dataframe.DataFrame"
      ]
     },
     "execution_count": 11,
     "metadata": {},
     "output_type": "execute_result"
    }
   ],
   "source": [
    "type(df1_coursecompletion)"
   ]
  },
  {
   "cell_type": "code",
   "execution_count": 12,
   "id": "6aa7b620",
   "metadata": {},
   "outputs": [],
   "source": [
    "df2_coursedetails = spark.read.table(\"capstoneproject.studentcoursedetails\")"
   ]
  },
  {
   "cell_type": "code",
   "execution_count": 13,
   "id": "e704be14",
   "metadata": {},
   "outputs": [
    {
     "name": "stdout",
     "output_type": "stream",
     "text": [
      "+--------+--------------------+--------------------+----------+--------------------+\n",
      "|courseid|               title|          competency|complexity|          coursetype|\n",
      "+--------+--------------------+--------------------+----------+--------------------+\n",
      "|   C0001|Certificate in Cl...|           Technical|     Basic|               Cloud|\n",
      "|   C0002|Certificate in Vi...|           Technical|     Basic|               Cloud|\n",
      "|   C0003|\"Diploma in Infor...| Networking and C...|  Security|               Cloud|\n",
      "|   C0004|BE (Hons) in CSE ...|              Domain|  Advanced|               Cloud|\n",
      "|   C0005|BTech in Computer...|              Domain|  Advanced|               Cloud|\n",
      "|   C0006|BTech in Computer...|              Domain|  Advanced|               Cloud|\n",
      "|   C0007|BCA with Microsof...|            Security|  Advanced|               Cloud|\n",
      "|   C0008|BTech in Informat...|           Technical|  Advanced|               Cloud|\n",
      "|   C0009|MCA with speciali...|           Technical|  Advanced|               Cloud|\n",
      "|   C0010|ME in Cloud Compu...|           Technical|     Basic|               Cloud|\n",
      "|   C0011|MTech Computer Sc...|           Technical|     Basic|               Cloud|\n",
      "|   C0012|Bachelor’s in Com...|              Domain|     Basic|Hardware and Netw...|\n",
      "|   C0013|B.Sc in Hardware ...|              Domain|  Advanced|Hardware and Netw...|\n",
      "|   C0014|BTech in IT and N...|              Domain|     Basic|Hardware and Netw...|\n",
      "|   C0015|BS in Hardware an...|              Domain|     Basic|Hardware and Netw...|\n",
      "|   C0016|BSc in Networking...|              Domain|     Basic|Hardware and Netw...|\n",
      "|   C0017|M.Tech in Network...|              Domain|  Advanced|Hardware and Netw...|\n",
      "|   C0018|M.Sc in Hardware ...|              Domain|  Advanced|Hardware and Netw...|\n",
      "|   C0019|MSc in Wireless N...|              Domain|  Advanced|Hardware and Netw...|\n",
      "|   C0020|Diploma in Comput...|              Domain|  Advanced|Hardware and Netw...|\n",
      "+--------+--------------------+--------------------+----------+--------------------+\n",
      "only showing top 20 rows\n",
      "\n"
     ]
    }
   ],
   "source": [
    "df2_coursedetails.show()"
   ]
  },
  {
   "cell_type": "markdown",
   "id": "52122293",
   "metadata": {},
   "source": [
    "#### Total number of students per result category"
   ]
  },
  {
   "cell_type": "code",
   "execution_count": 15,
   "id": "b92e99dd",
   "metadata": {},
   "outputs": [
    {
     "name": "stdout",
     "output_type": "stream",
     "text": [
      "+--------+-------------+-----+\n",
      "|courseid|       result|count|\n",
      "+--------+-------------+-----+\n",
      "|   C0001|    Qualified|   10|\n",
      "|   C0002|Not Qualified|   10|\n",
      "|   C0003|    Qualified|   11|\n",
      "|   C0004|    Qualified|   11|\n",
      "|   C0005|Not Qualified|   11|\n",
      "|   C0006|Not Qualified|   11|\n",
      "|   C0007|Not Qualified|   18|\n",
      "|   C0008|    Qualified|   18|\n",
      "|   C0009|    Qualified|   18|\n",
      "|   C0010|Not Qualified|   19|\n",
      "|   C0011|Not Qualified|   14|\n",
      "|   C0012|    Qualified|   14|\n",
      "|   C0013|    Qualified|   16|\n",
      "|   C0014|Not Qualified|   15|\n",
      "|   C0015|Not Qualified|   15|\n",
      "|   C0016|Not Qualified|   16|\n",
      "|   C0017|Not Qualified|   14|\n",
      "|   C0018|    Qualified|    6|\n",
      "|   C0019|    Qualified|    5|\n",
      "|   C0020|    Qualified|    5|\n",
      "+--------+-------------+-----+\n",
      "only showing top 20 rows\n",
      "\n"
     ]
    }
   ],
   "source": [
    "df1_coursecompletion.groupby('courseid','result').count().orderBy('courseid').show()"
   ]
  },
  {
   "cell_type": "code",
   "execution_count": 16,
   "id": "ea5847b6",
   "metadata": {},
   "outputs": [
    {
     "name": "stdout",
     "output_type": "stream",
     "text": [
      "+-------------+-----+\n",
      "|       result|count|\n",
      "+-------------+-----+\n",
      "|Not Qualified|  149|\n",
      "|    Qualified|  151|\n",
      "+-------------+-----+\n",
      "\n"
     ]
    }
   ],
   "source": [
    "df1_coursecompletion.groupby('result').count().show()"
   ]
  },
  {
   "cell_type": "markdown",
   "id": "c916a144",
   "metadata": {},
   "source": [
    "#### Total number of students absent"
   ]
  },
  {
   "cell_type": "code",
   "execution_count": 17,
   "id": "53305727",
   "metadata": {},
   "outputs": [
    {
     "data": {
      "text/plain": [
       "149"
      ]
     },
     "execution_count": 17,
     "metadata": {},
     "output_type": "execute_result"
    }
   ],
   "source": [
    "df1_coursecompletion.where(df1_coursecompletion[\"attendedstatus\"] == \"Absent\").count()"
   ]
  },
  {
   "cell_type": "code",
   "execution_count": 19,
   "id": "e06924bd",
   "metadata": {},
   "outputs": [
    {
     "name": "stdout",
     "output_type": "stream",
     "text": [
      "+--------+-----+\n",
      "|courseid|count|\n",
      "+--------+-----+\n",
      "|   C0002|   10|\n",
      "|   C0005|   11|\n",
      "|   C0006|   11|\n",
      "|   C0007|   18|\n",
      "|   C0010|   19|\n",
      "|   C0011|   14|\n",
      "|   C0014|   15|\n",
      "|   C0015|   15|\n",
      "|   C0016|   16|\n",
      "|   C0017|   14|\n",
      "|   C0022|    2|\n",
      "|   C0023|    2|\n",
      "|   C0024|    1|\n",
      "|   C0025|    1|\n",
      "+--------+-----+\n",
      "\n"
     ]
    }
   ],
   "source": [
    "df1_coursecompletion.where(df1_coursecompletion[\"attendedstatus\"] == \"Absent\").groupby('courseid') \\\n",
    ".count().orderBy('courseid').show()"
   ]
  },
  {
   "cell_type": "markdown",
   "id": "748d0cc9",
   "metadata": {},
   "source": [
    "#### Maximum, minimum and average marks scored by students"
   ]
  },
  {
   "cell_type": "code",
   "execution_count": 20,
   "id": "8ee97664",
   "metadata": {},
   "outputs": [],
   "source": [
    "df1_coursecompletion.registerTempTable(\"df1_table\")"
   ]
  },
  {
   "cell_type": "code",
   "execution_count": 21,
   "id": "a631f55f",
   "metadata": {},
   "outputs": [
    {
     "data": {
      "text/plain": [
       "{'maxval': 92, 'minval': 0, 'avgval': 40.013333333333335}"
      ]
     },
     "execution_count": 21,
     "metadata": {},
     "output_type": "execute_result"
    }
   ],
   "source": [
    "spark.sql(\"SELECT MAX(marks) as maxval, MIN(marks) as minval, AVG(marks) as avgval FROM df1_table\").first().asDict()"
   ]
  },
  {
   "cell_type": "code",
   "execution_count": 25,
   "id": "362d6e3e",
   "metadata": {},
   "outputs": [],
   "source": [
    "#Alternate Methods"
   ]
  },
  {
   "cell_type": "code",
   "execution_count": 22,
   "id": "41054ddd",
   "metadata": {},
   "outputs": [
    {
     "data": {
      "text/html": [
       "<table border='1'>\n",
       "<tr><th>max(marks)</th></tr>\n",
       "<tr><td>92</td></tr>\n",
       "</table>\n"
      ],
      "text/plain": [
       "+----------+\n",
       "|max(marks)|\n",
       "+----------+\n",
       "|        92|\n",
       "+----------+"
      ]
     },
     "execution_count": 22,
     "metadata": {},
     "output_type": "execute_result"
    }
   ],
   "source": [
    "df1_coursecompletion.agg({'marks':'max'})"
   ]
  },
  {
   "cell_type": "code",
   "execution_count": 23,
   "id": "3bcad496",
   "metadata": {},
   "outputs": [
    {
     "data": {
      "text/html": [
       "<table border='1'>\n",
       "<tr><th>min(marks)</th></tr>\n",
       "<tr><td>0</td></tr>\n",
       "</table>\n"
      ],
      "text/plain": [
       "+----------+\n",
       "|min(marks)|\n",
       "+----------+\n",
       "|         0|\n",
       "+----------+"
      ]
     },
     "execution_count": 23,
     "metadata": {},
     "output_type": "execute_result"
    }
   ],
   "source": [
    "df1_coursecompletion.agg({'marks':'min'})"
   ]
  },
  {
   "cell_type": "code",
   "execution_count": 24,
   "id": "7bfd99a4",
   "metadata": {},
   "outputs": [
    {
     "data": {
      "text/html": [
       "<table border='1'>\n",
       "<tr><th>avg(marks)</th></tr>\n",
       "<tr><td>40.013333333333335</td></tr>\n",
       "</table>\n"
      ],
      "text/plain": [
       "+------------------+\n",
       "|        avg(marks)|\n",
       "+------------------+\n",
       "|40.013333333333335|\n",
       "+------------------+"
      ]
     },
     "execution_count": 24,
     "metadata": {},
     "output_type": "execute_result"
    }
   ],
   "source": [
    "df1_coursecompletion.agg({'marks':'avg'})"
   ]
  },
  {
   "cell_type": "code",
   "execution_count": null,
   "id": "963ea95e",
   "metadata": {},
   "outputs": [],
   "source": []
  }
 ],
 "metadata": {
  "kernelspec": {
   "display_name": "Pyspark 3",
   "language": "python",
   "name": "pyspark3"
  },
  "language_info": {
   "codemirror_mode": {
    "name": "ipython",
    "version": 3
   },
   "file_extension": ".py",
   "mimetype": "text/x-python",
   "name": "python",
   "nbconvert_exporter": "python",
   "pygments_lexer": "ipython3",
   "version": "3.6.12"
  }
 },
 "nbformat": 4,
 "nbformat_minor": 5
}
